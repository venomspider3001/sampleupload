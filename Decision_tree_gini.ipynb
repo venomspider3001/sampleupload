{
 "cells": [
  {
   "cell_type": "code",
   "execution_count": null,
   "id": "e150c7bb",
   "metadata": {},
   "outputs": [],
   "source": [
    "from google.colab import files\n",
    "uploaded = files.upload()"
   ]
  },
  {
   "cell_type": "code",
   "execution_count": null,
   "id": "6c60896e",
   "metadata": {},
   "outputs": [],
   "source": [
    "import pandas as pd\n",
    "df = pd.read_csv(\"\")\n",
    "df.info()\n",
    "df.shape\n",
    "df.head()"
   ]
  },
  {
   "cell_type": "code",
   "execution_count": null,
   "id": "b7b2bc6f",
   "metadata": {},
   "outputs": [],
   "source": [
    "df.iloc[0:5,0:7]"
   ]
  },
  {
   "cell_type": "code",
   "execution_count": null,
   "id": "18191c48",
   "metadata": {},
   "outputs": [],
   "source": [
    "df.iloc[0:5, 7:15]"
   ]
  },
  {
   "cell_type": "code",
   "execution_count": null,
   "id": "d7b1254d",
   "metadata": {},
   "outputs": [],
   "source": [
    "df['checkin_acc'].unique()"
   ]
  },
  {
   "cell_type": "code",
   "execution_count": null,
   "id": "e1965e6c",
   "metadata": {},
   "outputs": [],
   "source": [
    "X_features = list(df.columns)\n",
    "X_features.remove('')\n",
    "encoded_df = pd.get_dummies(df[X_features],drop_first=True)\n",
    "print(list(encoded_df.columns))"
   ]
  },
  {
   "cell_type": "code",
   "execution_count": null,
   "id": "e005a48f",
   "metadata": {},
   "outputs": [],
   "source": [
    "X = encoded_df\n",
    "Y = df['status']"
   ]
  },
  {
   "cell_type": "code",
   "execution_count": null,
   "id": "be18ca4e",
   "metadata": {},
   "outputs": [],
   "source": [
    "from sklearn.model_selection import train_test_split\n",
    "X_train, X_test, y_train, y_test = train_test_split(X,Y,test_size = 0.3, random_state = 42)\n"
   ]
  },
  {
   "cell_type": "code",
   "execution_count": null,
   "id": "506e7d0b",
   "metadata": {},
   "outputs": [],
   "source": [
    "from sklearn.tree import DecisionTreeClassifier\n",
    "clf = DecisionTreeClassifier(criterion = 'gini', max_depth = 3)\n",
    "clf.fit(X_train, y_train)"
   ]
  },
  {
   "cell_type": "code",
   "execution_count": null,
   "id": "d625e871",
   "metadata": {},
   "outputs": [],
   "source": [
    "pred_y = clf.predict(X_test)"
   ]
  },
  {
   "cell_type": "code",
   "execution_count": null,
   "id": "38d625d7",
   "metadata": {},
   "outputs": [],
   "source": [
    "from sklearn import metrics\n",
    "print(\"Confusion Matrix is\\n\",metrics.confusion_matrix(pred_y, y_test))\n",
    "print(\"Accuracy is\", metrics.accuracy_score(pred_y,y_test))\n",
    "print(\"AUC Score is\", metrics.roc_auc_score(pred_y, y_test))"
   ]
  },
  {
   "cell_type": "code",
   "execution_count": null,
   "id": "77ad0703",
   "metadata": {},
   "outputs": [],
   "source": [
    "from sklearn.tree import export_graphviz\n",
    "import pydotplus as pdot\n",
    "from IPython.display import Image\n",
    "export_graphviz(clf,out_file = \"tree.odt\", feature_names = X_train.columns, filled = True)\n",
    "graph = pdot.graphviz.graph_from_dot_file(\"tree.odt\")\n",
    "graph.write_jpg(\"tree.png\")\n",
    "Image(filename = \"tree.png\")"
   ]
  }
 ],
 "metadata": {
  "kernelspec": {
   "display_name": "Python 3 (ipykernel)",
   "language": "python",
   "name": "python3"
  },
  "language_info": {
   "codemirror_mode": {
    "name": "ipython",
    "version": 3
   },
   "file_extension": ".py",
   "mimetype": "text/x-python",
   "name": "python",
   "nbconvert_exporter": "python",
   "pygments_lexer": "ipython3",
   "version": "3.9.13"
  }
 },
 "nbformat": 4,
 "nbformat_minor": 5
}
