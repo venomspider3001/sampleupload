{
 "cells": [
  {
   "cell_type": "code",
   "execution_count": null,
   "id": "619797b2",
   "metadata": {},
   "outputs": [],
   "source": [
    "from google.colab import files\n",
    "uploaded = files.upload()"
   ]
  },
  {
   "cell_type": "code",
   "execution_count": null,
   "id": "7d301f93",
   "metadata": {},
   "outputs": [],
   "source": [
    "import pandas as pd\n",
    "import numpy as np\n",
    "import matplotlib.pyplot as plt\n",
    "import seaborn as sn\n",
    "df = pd.read_csv(\"\")\n",
    "sn.lmplot(\"\", \"\", data = df, fit_reg = False, size = 4)"
   ]
  },
  {
   "cell_type": "code",
   "execution_count": null,
   "id": "f36ad3ca",
   "metadata": {},
   "outputs": [],
   "source": [
    "from sklearn.preprocessing import StandardScaler\n",
    "scaler = StandardScaler()\n",
    "scaled_df = scaler.fit_transform(df[[\"\", \"\"]])\n",
    "scaled_df[0:5]"
   ]
  },
  {
   "cell_type": "code",
   "execution_count": null,
   "id": "fd24d0fa",
   "metadata": {},
   "outputs": [],
   "source": [
    "from sklearn.cluster import KMeans\n",
    "clusters = KMeans(3)\n",
    "clusters.fit(scaled_df)\n",
    "df[\"clusterid\"] = clusters.labels_\n",
    "markers = ['+', '^', '*']\n",
    "sn.lmplot(\"\", \"\", data = df, hue = \"clusterid\", fit_reg = False, markers  = markers, size = 4)"
   ]
  },
  {
   "cell_type": "code",
   "execution_count": null,
   "id": "a707643a",
   "metadata": {},
   "outputs": [],
   "source": [
    "clusters = KMeans(3)\n",
    "clusters.fit(df)\n",
    "df[\"new_clusterid\"] = clusters.labels_\n",
    "df.groupby(\"new_clusterid\")['', ''].agg([\"mean\", 'std']).reset_index()"
   ]
  },
  {
   "cell_type": "code",
   "execution_count": null,
   "id": "be39a0d3",
   "metadata": {},
   "outputs": [],
   "source": [
    "cluster_range = range(1,10)\n",
    "cluster_errors = []\n",
    "for num_clusters in cluster_range:\n",
    "  clusters = KMeans(num_clusters)\n",
    "  clusters.fit(scaled_df)\n",
    "  cluster_errors.append(clusters.inertia_)\n",
    "plt.figure(figsize = (6,4))\n",
    "plt.plot(cluster_range, cluster_errors, marker = \"*\")\n",
    "plt.xlabel(\"No. of clusters\")\n",
    "plt.ylabel(\"Sum of Squared Error\")"
   ]
  }
 ],
 "metadata": {
  "kernelspec": {
   "display_name": "Python 3 (ipykernel)",
   "language": "python",
   "name": "python3"
  },
  "language_info": {
   "codemirror_mode": {
    "name": "ipython",
    "version": 3
   },
   "file_extension": ".py",
   "mimetype": "text/x-python",
   "name": "python",
   "nbconvert_exporter": "python",
   "pygments_lexer": "ipython3",
   "version": "3.9.13"
  }
 },
 "nbformat": 4,
 "nbformat_minor": 5
}
