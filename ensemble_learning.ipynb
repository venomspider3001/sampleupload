{
 "cells": [
  {
   "cell_type": "code",
   "execution_count": null,
   "id": "d07378e2",
   "metadata": {},
   "outputs": [],
   "source": [
    "import pandas \n",
    "from sklearn import model_selection\n",
    "from sklearn.ensemble import BaggingClassifier\n",
    "from sklearn.tree import DecisionTreeClassifier\n",
    "url = \"\"\n",
    "names = ['', '']\n",
    "df = pandas.read_csv(url, names=names)\n",
    "df.shape"
   ]
  },
  {
   "cell_type": "code",
   "execution_count": null,
   "id": "7ae01e38",
   "metadata": {},
   "outputs": [],
   "source": [
    "array = df.values\n",
    "X = array[:, 0:8]\n",
    "Y = array[:, 8]\n",
    "Kfold = model_selection.KFold(n_splits=10, random_state=7)\n",
    "cart = DecisionTreeClassifier()\n",
    "num_trees = 100\n",
    "model = BaggingClassifier(base_estimator=cart, n_estimators=num_trees,random_state=7)\n",
    "results = model_selection.cross_val_score(model,X,Y, cv = Kfold)\n",
    "average_accuracy = sum(results)/len(results)\n",
    "print(\"Average Accuracy is \", average_accuracy)"
   ]
  },
  {
   "cell_type": "code",
   "execution_count": null,
   "id": "ac5d2f4f",
   "metadata": {},
   "outputs": [],
   "source": [
    "array = df.values\n",
    "X = array[:, 0:8]\n",
    "Y = array[:, 8]\n",
    "Kfold = model_selection.KFold(n_splits=10, random_state=7)\n",
    "num_trees = 10\n",
    "model = AdaBoostClassifier(n_estimators=num_trees,random_state=7)\n",
    "results = model_selection.cross_val_score(model,X,Y, cv = Kfold)\n",
    "average_accuracy = sum(results)/len(results)\n",
    "print(\"Average Accuracy is \", average_accuracy)"
   ]
  },
  {
   "cell_type": "code",
   "execution_count": null,
   "id": "406f7037",
   "metadata": {},
   "outputs": [],
   "source": []
  },
  {
   "cell_type": "code",
   "execution_count": null,
   "id": "0f85aa6d",
   "metadata": {},
   "outputs": [],
   "source": [
    "array = df.values\n",
    "X = array[:, 0:8]\n",
    "Y = array[:, 8]\n",
    "Kfold = model_selection.KFold(n_splits=10, random_state=7)\n",
    "knn = KNeighborsClassifier()\n",
    "num_learners = 100\n",
    "model = BaggingClassifier(base_estimator=knn, n_estimators=num_learners,random_state=7)\n",
    "results = model_selection.cross_val_score(model,X,Y, cv = Kfold)\n",
    "average_accuracy = sum(results)/len(results)\n",
    "print(\"Average Accuracy is \", average_accuracy)"
   ]
  },
  {
   "cell_type": "code",
   "execution_count": null,
   "id": "cae1a619",
   "metadata": {},
   "outputs": [],
   "source": []
  }
 ],
 "metadata": {
  "kernelspec": {
   "display_name": "Python 3 (ipykernel)",
   "language": "python",
   "name": "python3"
  },
  "language_info": {
   "codemirror_mode": {
    "name": "ipython",
    "version": 3
   },
   "file_extension": ".py",
   "mimetype": "text/x-python",
   "name": "python",
   "nbconvert_exporter": "python",
   "pygments_lexer": "ipython3",
   "version": "3.9.13"
  }
 },
 "nbformat": 4,
 "nbformat_minor": 5
}
