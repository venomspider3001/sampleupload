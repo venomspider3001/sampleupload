{
 "cells": [
  {
   "cell_type": "markdown",
   "metadata": {
    "id": "ztd7GdfUXcaW"
   },
   "source": [
    "Question 1 : Implement the Bagging based Ensemble Model using CART (Classification and Regression Trees) as base learners. No. of base learners = 100. Use cross validation as the model estimation method. "
   ]
  },
  {
   "cell_type": "code",
   "execution_count": null,
   "metadata": {
    "colab": {
     "base_uri": "https://localhost:8080/"
    },
    "id": "vnR0ToQmXb8S",
    "outputId": "e651c447-b023-4011-b18b-9d023f3b4d17"
   },
   "outputs": [
    {
     "data": {
      "text/plain": [
       "(768, 9)"
      ]
     },
     "execution_count": 13,
     "metadata": {
      "tags": []
     },
     "output_type": "execute_result"
    }
   ],
   "source": [
    "import pandas \n",
    "from sklearn import model_selection\n",
    "from sklearn.ensemble import BaggingClassifier\n",
    "from sklearn.tree import DecisionTreeClassifier\n",
    "url = \"https://raw.githubusercontent.com/jbrownlee/Datasets/master/pima-indians-diabetes.data.csv\"\n",
    "names = ['preg', 'plas','pres', 'skin', 'test', 'mass', 'pedi', 'age', 'class']\n",
    "df = pandas.read_csv(url, names=names)\n",
    "df.shape"
   ]
  },
  {
   "cell_type": "code",
   "execution_count": null,
   "metadata": {
    "colab": {
     "base_uri": "https://localhost:8080/"
    },
    "id": "hZ5JNyyxhcCY",
    "outputId": "2d109008-b4b5-4eca-9c57-ba3001f9de1e"
   },
   "outputs": [
    {
     "name": "stderr",
     "output_type": "stream",
     "text": [
      "/usr/local/lib/python3.6/dist-packages/sklearn/model_selection/_split.py:296: FutureWarning: Setting a random_state has no effect since shuffle is False. This will raise an error in 0.24. You should leave random_state to its default (None), or set shuffle=True.\n",
      "  FutureWarning\n"
     ]
    },
    {
     "name": "stdout",
     "output_type": "stream",
     "text": [
      "Average Accuracy is  0.770745044429255\n"
     ]
    }
   ],
   "source": [
    "array = df.values\n",
    "X = array[:, 0:8]\n",
    "Y = array[:, 8]\n",
    "Kfold = model_selection.KFold(n_splits=10, random_state=7)\n",
    "cart = DecisionTreeClassifier()\n",
    "num_trees = 100\n",
    "model = BaggingClassifier(base_estimator=cart, n_estimators=num_trees,random_state=7)\n",
    "results = model_selection.cross_val_score(model,X,Y, cv = Kfold)\n",
    "average_accuracy = sum(results)/len(results)\n",
    "print(\"Average Accuracy is \", average_accuracy)\n",
    "\n"
   ]
  },
  {
   "cell_type": "markdown",
   "metadata": {
    "id": "BQkpmli4qStQ"
   },
   "source": [
    "Question 2 : Implement the AdaBoost Ensemble model for classification using 10 base learners and cross validation."
   ]
  },
  {
   "cell_type": "code",
   "execution_count": 2,
   "metadata": {
    "colab": {
     "base_uri": "https://localhost:8080/"
    },
    "executionInfo": {
     "elapsed": 2803,
     "status": "ok",
     "timestamp": 1605067672652,
     "user": {
      "displayName": "Alamelumangai Jothidurai",
      "photoUrl": "",
      "userId": "16336246361902186406"
     },
     "user_tz": -330
    },
    "id": "sy3MrrSgqgN9",
    "outputId": "4b9a79b0-8762-4112-f5b5-6376f9a9d7c9"
   },
   "outputs": [
    {
     "data": {
      "text/plain": [
       "(768, 9)"
      ]
     },
     "execution_count": 2,
     "metadata": {
      "tags": []
     },
     "output_type": "execute_result"
    }
   ],
   "source": [
    "import pandas \n",
    "from sklearn import model_selection\n",
    "from sklearn.ensemble import AdaBoostClassifier\n",
    "from sklearn.tree import DecisionTreeClassifier\n",
    "url = \"https://raw.githubusercontent.com/jbrownlee/Datasets/master/pima-indians-diabetes.data.csv\"\n",
    "names = ['preg', 'plas','pres', 'skin', 'test', 'mass', 'pedi', 'age', 'class']\n",
    "df = pandas.read_csv(url, names=names)\n",
    "df.shape"
   ]
  },
  {
   "cell_type": "code",
   "execution_count": 3,
   "metadata": {
    "colab": {
     "base_uri": "https://localhost:8080/"
    },
    "executionInfo": {
     "elapsed": 1337,
     "status": "ok",
     "timestamp": 1605067679060,
     "user": {
      "displayName": "Alamelumangai Jothidurai",
      "photoUrl": "",
      "userId": "16336246361902186406"
     },
     "user_tz": -330
    },
    "id": "54gO7nlkq5xj",
    "outputId": "265f6d4c-f6d5-46eb-9d1f-886912f260ab"
   },
   "outputs": [
    {
     "name": "stderr",
     "output_type": "stream",
     "text": [
      "/usr/local/lib/python3.6/dist-packages/sklearn/model_selection/_split.py:296: FutureWarning: Setting a random_state has no effect since shuffle is False. This will raise an error in 0.24. You should leave random_state to its default (None), or set shuffle=True.\n",
      "  FutureWarning\n"
     ]
    },
    {
     "name": "stdout",
     "output_type": "stream",
     "text": [
      "Average Accuracy is  0.7525974025974026\n"
     ]
    }
   ],
   "source": [
    "array = df.values\n",
    "X = array[:, 0:8]\n",
    "Y = array[:, 8]\n",
    "Kfold = model_selection.KFold(n_splits=10, random_state=7)\n",
    "num_trees = 10\n",
    "model = AdaBoostClassifier(n_estimators=num_trees,random_state=7)\n",
    "results = model_selection.cross_val_score(model,X,Y, cv = Kfold)\n",
    "average_accuracy = sum(results)/len(results)\n",
    "print(\"Average Accuracy is \", average_accuracy)"
   ]
  },
  {
   "cell_type": "markdown",
   "metadata": {
    "id": "H5lKpxuOgYgV"
   },
   "source": [
    "Question 3: (Same as Question 1) Implement the Bagging based Ensemble Model using k-Nearest Neighbor Classifier as base learners. No. of base learners = 100. Use cross validation as the model estimation method."
   ]
  },
  {
   "cell_type": "code",
   "execution_count": 4,
   "metadata": {
    "colab": {
     "base_uri": "https://localhost:8080/"
    },
    "executionInfo": {
     "elapsed": 1281,
     "status": "ok",
     "timestamp": 1605067842290,
     "user": {
      "displayName": "Alamelumangai Jothidurai",
      "photoUrl": "",
      "userId": "16336246361902186406"
     },
     "user_tz": -330
    },
    "id": "C4VxQSI_frIm",
    "outputId": "c36ce12c-6e85-4776-c49c-769c0e31ad4c"
   },
   "outputs": [
    {
     "data": {
      "text/plain": [
       "(768, 9)"
      ]
     },
     "execution_count": 4,
     "metadata": {
      "tags": []
     },
     "output_type": "execute_result"
    }
   ],
   "source": [
    "import pandas \n",
    "from sklearn import model_selection\n",
    "from sklearn.ensemble import BaggingClassifier\n",
    "from sklearn.neighbors import KNeighborsClassifier\n",
    "url = \"https://raw.githubusercontent.com/jbrownlee/Datasets/master/pima-indians-diabetes.data.csv\"\n",
    "names = ['preg', 'plas','pres', 'skin', 'test', 'mass', 'pedi', 'age', 'class']\n",
    "df = pandas.read_csv(url, names=names)\n",
    "df.shape"
   ]
  },
  {
   "cell_type": "code",
   "execution_count": 6,
   "metadata": {
    "colab": {
     "base_uri": "https://localhost:8080/"
    },
    "executionInfo": {
     "elapsed": 3544,
     "status": "ok",
     "timestamp": 1605067926650,
     "user": {
      "displayName": "Alamelumangai Jothidurai",
      "photoUrl": "",
      "userId": "16336246361902186406"
     },
     "user_tz": -330
    },
    "id": "uUc5VVMsftkv",
    "outputId": "4fce909b-22ea-4494-c0a3-bc40729bdd5f"
   },
   "outputs": [
    {
     "name": "stderr",
     "output_type": "stream",
     "text": [
      "/usr/local/lib/python3.6/dist-packages/sklearn/model_selection/_split.py:296: FutureWarning: Setting a random_state has no effect since shuffle is False. This will raise an error in 0.24. You should leave random_state to its default (None), or set shuffle=True.\n",
      "  FutureWarning\n"
     ]
    },
    {
     "name": "stdout",
     "output_type": "stream",
     "text": [
      "Average Accuracy is  0.7356459330143541\n"
     ]
    }
   ],
   "source": [
    "array = df.values\n",
    "X = array[:, 0:8]\n",
    "Y = array[:, 8]\n",
    "Kfold = model_selection.KFold(n_splits=10, random_state=7)\n",
    "knn = KNeighborsClassifier()\n",
    "num_learners = 100\n",
    "model = BaggingClassifier(base_estimator=knn, n_estimators=num_learners,random_state=7)\n",
    "results = model_selection.cross_val_score(model,X,Y, cv = Kfold)\n",
    "average_accuracy = sum(results)/len(results)\n",
    "print(\"Average Accuracy is \", average_accuracy)"
   ]
  }
 ],
 "metadata": {
  "colab": {
   "collapsed_sections": [],
   "name": "Lab_9_Ensemble_Learning.ipynb",
   "provenance": []
  },
  "kernelspec": {
   "display_name": "Python 3 (ipykernel)",
   "language": "python",
   "name": "python3"
  },
  "language_info": {
   "codemirror_mode": {
    "name": "ipython",
    "version": 3
   },
   "file_extension": ".py",
   "mimetype": "text/x-python",
   "name": "python",
   "nbconvert_exporter": "python",
   "pygments_lexer": "ipython3",
   "version": "3.9.13"
  }
 },
 "nbformat": 4,
 "nbformat_minor": 1
}
